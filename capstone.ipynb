{
  "nbformat": 4,
  "nbformat_minor": 0,
  "metadata": {
    "colab": {
      "provenance": []
    },
    "kernelspec": {
      "name": "python3",
      "display_name": "Python 3"
    },
    "language_info": {
      "name": "python"
    }
  },
  "cells": [
    {
      "cell_type": "code",
      "execution_count": 20,
      "metadata": {
        "id": "GTFuQ4p0-qmo"
      },
      "outputs": [],
      "source": [
        "import pandas as pd\n",
        "import numpy as np\n",
        "import seaborn as sns\n",
        "import matplotlib.pyplot as plt\n",
        "\n",
        "from sklearn.preprocessing import LabelEncoder, StandardScaler\n",
        "from sklearn.model_selection import train_test_split, GridSearchCV\n",
        "from sklearn.metrics import classification_report, confusion_matrix, accuracy_score, precision_score, recall_score, f1_score\n",
        "\n",
        "from sklearn.ensemble import RandomForestClassifier\n",
        "from sklearn.neighbors import KNeighborsClassifier\n",
        "from sklearn.svm import SVC\n",
        "\n",
        "from imblearn.over_sampling import SMOTE"
      ]
    },
    {
      "cell_type": "code",
      "source": [
        "df = pd.read_csv('ObesityDataSet.csv')"
      ],
      "metadata": {
        "id": "cUMDMhJhI2ux"
      },
      "execution_count": 21,
      "outputs": []
    },
    {
      "cell_type": "code",
      "source": [
        "print(df.head())\n",
        "print(df.info())\n",
        "print(df.describe())\n",
        "\n",
        "print(\"Missing Values:\\n\", df.isnull().sum())\n",
        "print(\"Duplicate Rows: \", df.duplicated().sum())\n",
        "print(\"Unique Values per Column:\\n\", df.nunique())\n",
        "print(\"Class Balance:\\n\", df['NObeyesdad'].value_counts())"
      ],
      "metadata": {
        "id": "yu_HpSWAJBKH",
        "outputId": "f77221f1-5394-4e05-8e9d-15bc36fb5be6",
        "colab": {
          "base_uri": "https://localhost:8080/"
        }
      },
      "execution_count": 22,
      "outputs": [
        {
          "output_type": "stream",
          "name": "stdout",
          "text": [
            "  Age  Gender Height Weight        CALC FAVC FCVC NCP  SCC SMOKE CH2O  \\\n",
            "0  21  Female   1.62     64          no   no    2   3   no    no    2   \n",
            "1  21  Female   1.52     56   Sometimes   no    3   3  yes   yes    3   \n",
            "2  23    Male    1.8     77  Frequently   no    2   3   no    no    2   \n",
            "3  27    Male    1.8     87  Frequently   no    3   3   no    no    2   \n",
            "4  22    Male   1.78   89.8   Sometimes   no    2   1   no    no    2   \n",
            "\n",
            "  family_history_with_overweight FAF TUE       CAEC                 MTRANS  \\\n",
            "0                            yes   0   1  Sometimes  Public_Transportation   \n",
            "1                            yes   3   0  Sometimes  Public_Transportation   \n",
            "2                            yes   2   1  Sometimes  Public_Transportation   \n",
            "3                             no   2   0  Sometimes                Walking   \n",
            "4                             no   0   0  Sometimes  Public_Transportation   \n",
            "\n",
            "            NObeyesdad  \n",
            "0        Normal_Weight  \n",
            "1        Normal_Weight  \n",
            "2        Normal_Weight  \n",
            "3   Overweight_Level_I  \n",
            "4  Overweight_Level_II  \n",
            "<class 'pandas.core.frame.DataFrame'>\n",
            "RangeIndex: 2111 entries, 0 to 2110\n",
            "Data columns (total 17 columns):\n",
            " #   Column                          Non-Null Count  Dtype \n",
            "---  ------                          --------------  ----- \n",
            " 0   Age                             2097 non-null   object\n",
            " 1   Gender                          2102 non-null   object\n",
            " 2   Height                          2099 non-null   object\n",
            " 3   Weight                          2100 non-null   object\n",
            " 4   CALC                            2106 non-null   object\n",
            " 5   FAVC                            2100 non-null   object\n",
            " 6   FCVC                            2103 non-null   object\n",
            " 7   NCP                             2099 non-null   object\n",
            " 8   SCC                             2101 non-null   object\n",
            " 9   SMOKE                           2106 non-null   object\n",
            " 10  CH2O                            2105 non-null   object\n",
            " 11  family_history_with_overweight  2098 non-null   object\n",
            " 12  FAF                             2103 non-null   object\n",
            " 13  TUE                             2102 non-null   object\n",
            " 14  CAEC                            2100 non-null   object\n",
            " 15  MTRANS                          2105 non-null   object\n",
            " 16  NObeyesdad                      2111 non-null   object\n",
            "dtypes: object(17)\n",
            "memory usage: 280.5+ KB\n",
            "None\n",
            "         Age Gender Height Weight       CALC  FAVC  FCVC   NCP   SCC SMOKE  \\\n",
            "count   2097   2102   2099   2100       2106  2100  2103  2099  2101  2106   \n",
            "unique  1394      3   1562   1518          5     3   808   637     3     3   \n",
            "top       18   Male    1.7     80  Sometimes   yes     3     3    no    no   \n",
            "freq     124   1056     58     58       1386  1844   647  1183  1997  2054   \n",
            "\n",
            "        CH2O family_history_with_overweight   FAF   TUE       CAEC  \\\n",
            "count   2105                           2098  2103  2102       2100   \n",
            "unique  1263                              3  1186  1130          5   \n",
            "top        2                            yes     0     0  Sometimes   \n",
            "freq     441                           1705   404   552       1747   \n",
            "\n",
            "                       MTRANS      NObeyesdad  \n",
            "count                    2105            2111  \n",
            "unique                      6               7  \n",
            "top     Public_Transportation  Obesity_Type_I  \n",
            "freq                     1572             351  \n",
            "Missing Values:\n",
            " Age                               14\n",
            "Gender                             9\n",
            "Height                            12\n",
            "Weight                            11\n",
            "CALC                               5\n",
            "FAVC                              11\n",
            "FCVC                               8\n",
            "NCP                               12\n",
            "SCC                               10\n",
            "SMOKE                              5\n",
            "CH2O                               6\n",
            "family_history_with_overweight    13\n",
            "FAF                                8\n",
            "TUE                                9\n",
            "CAEC                              11\n",
            "MTRANS                             6\n",
            "NObeyesdad                         0\n",
            "dtype: int64\n",
            "Duplicate Rows:  18\n",
            "Unique Values per Column:\n",
            " Age                               1394\n",
            "Gender                               3\n",
            "Height                            1562\n",
            "Weight                            1518\n",
            "CALC                                 5\n",
            "FAVC                                 3\n",
            "FCVC                               808\n",
            "NCP                                637\n",
            "SCC                                  3\n",
            "SMOKE                                3\n",
            "CH2O                              1263\n",
            "family_history_with_overweight       3\n",
            "FAF                               1186\n",
            "TUE                               1130\n",
            "CAEC                                 5\n",
            "MTRANS                               6\n",
            "NObeyesdad                           7\n",
            "dtype: int64\n",
            "Class Balance:\n",
            " NObeyesdad\n",
            "Obesity_Type_I         351\n",
            "Obesity_Type_III       324\n",
            "Obesity_Type_II        297\n",
            "Overweight_Level_I     290\n",
            "Overweight_Level_II    290\n",
            "Normal_Weight          287\n",
            "Insufficient_Weight    272\n",
            "Name: count, dtype: int64\n"
          ]
        }
      ]
    },
    {
      "cell_type": "code",
      "source": [
        "sns.countplot(x='NObeyesdad', data=df)\n",
        "plt.xticks(rotation=45)\n",
        "plt.title(\"Distribusi Kelas Obesitas\")\n",
        "plt.tight_layout()\n",
        "plt.show()"
      ],
      "metadata": {
        "id": "chg9Wd0GJG9w",
        "outputId": "64d1aafa-9ab1-4ab1-adf6-ff021ab92e24",
        "colab": {
          "base_uri": "https://localhost:8080/",
          "height": 487
        }
      },
      "execution_count": 23,
      "outputs": [
        {
          "output_type": "display_data",
          "data": {
            "text/plain": [
              "<Figure size 640x480 with 1 Axes>"
            ],
            "image/png": "[encoded data removed]"
          },
          "metadata": {}
        }
      ]
    },
    {
      "cell_type": "code",
      "source": [
        "# Cek ulang apakah kolom numerik sudah benar-benar bertipe float atau int\n",
        "numeric_cols = df.select_dtypes(include=['int64', 'float64']).columns.tolist()\n",
        "\n",
        "# Tampilkan boxplot satu per satu agar lebih jelas\n",
        "plt.figure(figsize=(15, 8))\n",
        "for i, col in enumerate(numeric_cols):\n",
        "    plt.subplot((len(numeric_cols)+2)//3, 3, i+1)\n",
        "    sns.boxplot(x=df[col])\n",
        "    plt.title(col)\n",
        "\n",
        "plt.tight_layout()\n",
        "plt.show()\n"
      ],
      "metadata": {
        "id": "NgnXHEuzURJ6",
        "outputId": "dc6a72c9-88c0-4ef0-a253-46ebca92202f",
        "colab": {
          "base_uri": "https://localhost:8080/",
          "height": 34
        }
      },
      "execution_count": 25,
      "outputs": [
        {
          "output_type": "display_data",
          "data": {
            "text/plain": [
              "<Figure size 1500x800 with 0 Axes>"
            ]
          },
          "metadata": {}
        }
      ]
    },
    {
      "cell_type": "code",
      "source": [
        "# Drop duplikat jika ada\n",
        "df.drop_duplicates(inplace=True)\n",
        "\n",
        "# Encoding variabel kategorikal\n",
        "label_cols = df.select_dtypes(include='object').columns.tolist()\n",
        "le = LabelEncoder()\n",
        "for col in label_cols:\n",
        "    df[col] = le.fit_transform(df[col])\n",
        "\n",
        "# Cek lagi hasil encode\n",
        "print(df.head())"
      ],
      "metadata": {
        "id": "ahLCbc0CXFNH",
        "outputId": "fc8afbd5-5cac-4690-aad7-ffdbe0fe68a4",
        "colab": {
          "base_uri": "https://localhost:8080/"
        }
      },
      "execution_count": 26,
      "outputs": [
        {
          "output_type": "stream",
          "name": "stdout",
          "text": [
            "    Age  Gender  Height  Weight  CALC  FAVC  FCVC  NCP  SCC  SMOKE  CH2O  \\\n",
            "0   404       1     291     947     4     1   167  479    1      1   545   \n",
            "1   404       1      27     875     3     1   798  479    2      2  1253   \n",
            "2   697       2    1285    1082     2     1   167  479    1      1   545   \n",
            "3  1012       2    1285    1340     2     1   798  479    1      1   545   \n",
            "4   578       2    1182    1388     3     1   167    0    1      1   545   \n",
            "\n",
            "   family_history_with_overweight   FAF  TUE  CAEC  MTRANS  NObeyesdad  \n",
            "0                               2     0  832     3       4           1  \n",
            "1                               2  1180    0     3       4           1  \n",
            "2                               2  1063  832     3       4           1  \n",
            "3                               1  1063    0     3       5           5  \n",
            "4                               1     0    0     3       4           6  \n"
          ]
        }
      ]
    },
    {
      "cell_type": "code",
      "source": [
        "# Pisahkan fitur dan target\n",
        "X = df.drop('NObeyesdad', axis=1)\n",
        "y = df['NObeyesdad']\n",
        "\n",
        "# Normalisasi\n",
        "scaler = StandardScaler()\n",
        "X_scaled = scaler.fit_transform(X)\n",
        "\n",
        "# Tangani imbalance dengan SMOTE\n",
        "smote = SMOTE(random_state=42)\n",
        "X_resampled, y_resampled = smote.fit_resample(X_scaled, y)\n",
        "\n",
        "# Split data\n",
        "X_train, X_test, y_train, y_test = train_test_split(X_resampled, y_resampled, test_size=0.2, random_state=42)"
      ],
      "metadata": {
        "id": "qUDNMnCnXLAe"
      },
      "execution_count": 27,
      "outputs": []
    },
    {
      "cell_type": "code",
      "source": [
        "models = {\n",
        "    'RandomForest': RandomForestClassifier(),\n",
        "    'KNN': KNeighborsClassifier(),\n",
        "    'SVM': SVC()\n",
        "}\n",
        "\n",
        "results = {}\n",
        "for name, model in models.items():\n",
        "    model.fit(X_train, y_train)\n",
        "    y_pred = model.predict(X_test)\n",
        "    results[name] = {\n",
        "        'accuracy': accuracy_score(y_test, y_pred),\n",
        "        'precision': precision_score(y_test, y_pred, average='weighted'),\n",
        "        'recall': recall_score(y_test, y_pred, average='weighted'),\n",
        "        'f1': f1_score(y_test, y_pred, average='weighted')\n",
        "    }\n",
        "    print(f\"\\nModel: {name}\")\n",
        "    print(confusion_matrix(y_test, y_pred))\n",
        "    print(classification_report(y_test, y_pred))"
      ],
      "metadata": {
        "id": "YUI5BsJWXQKM",
        "outputId": "3aada4af-b6ad-4dfe-e2fd-13cba4d90467",
        "colab": {
          "base_uri": "https://localhost:8080/"
        }
      },
      "execution_count": 28,
      "outputs": [
        {
          "output_type": "stream",
          "name": "stdout",
          "text": [
            "\n",
            "Model: RandomForest\n",
            "[[68  3  0  0  0  0  0]\n",
            " [ 0 65  0  0  0  4  2]\n",
            " [ 0  1 62  1  0  0  1]\n",
            " [ 0  1  0 67  1  0  0]\n",
            " [ 0  0  1  0 72  0  0]\n",
            " [ 0  6  0  0  0 57  1]\n",
            " [ 0  3  3  0  0  1 72]]\n",
            "              precision    recall  f1-score   support\n",
            "\n",
            "           0       1.00      0.96      0.98        71\n",
            "           1       0.82      0.92      0.87        71\n",
            "           2       0.94      0.95      0.95        65\n",
            "           3       0.99      0.97      0.98        69\n",
            "           4       0.99      0.99      0.99        73\n",
            "           5       0.92      0.89      0.90        64\n",
            "           6       0.95      0.91      0.93        79\n",
            "\n",
            "    accuracy                           0.94       492\n",
            "   macro avg       0.94      0.94      0.94       492\n",
            "weighted avg       0.94      0.94      0.94       492\n",
            "\n",
            "\n",
            "Model: KNN\n",
            "[[64  5  0  0  0  0  2]\n",
            " [11 33  3  5  0  7 12]\n",
            " [ 0  2 52  5  0  1  5]\n",
            " [ 1  0  2 65  1  0  0]\n",
            " [ 0  0  1  0 72  0  0]\n",
            " [ 3  4  8  0  0 46  3]\n",
            " [ 2  7  3  1  0  7 59]]\n",
            "              precision    recall  f1-score   support\n",
            "\n",
            "           0       0.79      0.90      0.84        71\n",
            "           1       0.65      0.46      0.54        71\n",
            "           2       0.75      0.80      0.78        65\n",
            "           3       0.86      0.94      0.90        69\n",
            "           4       0.99      0.99      0.99        73\n",
            "           5       0.75      0.72      0.74        64\n",
            "           6       0.73      0.75      0.74        79\n",
            "\n",
            "    accuracy                           0.79       492\n",
            "   macro avg       0.79      0.79      0.79       492\n",
            "weighted avg       0.79      0.79      0.79       492\n",
            "\n",
            "\n",
            "Model: SVM\n",
            "[[62  8  0  0  0  0  1]\n",
            " [ 4 55  2  1  0  5  4]\n",
            " [ 0  4 54  4  0  1  2]\n",
            " [ 0  1  2 66  0  0  0]\n",
            " [ 0  0  0  1 71  0  1]\n",
            " [ 1 10  2  0  0 49  2]\n",
            " [ 0  6  7  0  0  7 59]]\n",
            "              precision    recall  f1-score   support\n",
            "\n",
            "           0       0.93      0.87      0.90        71\n",
            "           1       0.65      0.77      0.71        71\n",
            "           2       0.81      0.83      0.82        65\n",
            "           3       0.92      0.96      0.94        69\n",
            "           4       1.00      0.97      0.99        73\n",
            "           5       0.79      0.77      0.78        64\n",
            "           6       0.86      0.75      0.80        79\n",
            "\n",
            "    accuracy                           0.85       492\n",
            "   macro avg       0.85      0.85      0.85       492\n",
            "weighted avg       0.85      0.85      0.85       492\n",
            "\n"
          ]
        }
      ]
    },
    {
      "cell_type": "code",
      "source": [
        "df_result = pd.DataFrame(results).T\n",
        "df_result.plot(kind='bar', figsize=(10, 6), title=\"Perbandingan Performa Model\")\n",
        "plt.ylabel(\"Score\")\n",
        "plt.ylim(0, 1)\n",
        "plt.xticks(rotation=0)\n",
        "plt.tight_layout()\n",
        "plt.show()"
      ],
      "metadata": {
        "id": "7x6BcehVXUx_",
        "outputId": "5a845137-bda8-4686-cc1c-4be8ec08b464",
        "colab": {
          "base_uri": "https://localhost:8080/",
          "height": 528
        }
      },
      "execution_count": 29,
      "outputs": [
        {
          "output_type": "display_data",
          "data": {
            "text/plain": [
              "<Figure size 1000x600 with 1 Axes>"
            ],
            "image/png": "[encoded data removed]"
          },
          "metadata": {}
        }
      ]
    },
    {
      "cell_type": "code",
      "source": [
        "param_grid = {\n",
        "    'n_estimators': [50, 100, 150],\n",
        "    'max_depth': [None, 10, 20]\n",
        "}\n",
        "grid = GridSearchCV(RandomForestClassifier(), param_grid, cv=3, scoring='accuracy')\n",
        "grid.fit(X_train, y_train)\n",
        "best_model = grid.best_estimator_\n",
        "y_pred_best = best_model.predict(X_test)\n",
        "\n",
        "print(\"\\nBest Parameters:\", grid.best_params_)\n",
        "print(classification_report(y_test, y_pred_best))"
      ],
      "metadata": {
        "id": "3hQeeEr5XXcQ",
        "outputId": "83854048-bb19-4df2-8c3e-8a60caeee1ff",
        "colab": {
          "base_uri": "https://localhost:8080/"
        }
      },
      "execution_count": 30,
      "outputs": [
        {
          "output_type": "stream",
          "name": "stdout",
          "text": [
            "\n",
            "Best Parameters: {'max_depth': 20, 'n_estimators': 100}\n",
            "              precision    recall  f1-score   support\n",
            "\n",
            "           0       1.00      0.94      0.97        71\n",
            "           1       0.80      0.96      0.87        71\n",
            "           2       0.91      0.95      0.93        65\n",
            "           3       0.99      0.97      0.98        69\n",
            "           4       0.99      0.99      0.99        73\n",
            "           5       0.93      0.86      0.89        64\n",
            "           6       0.97      0.89      0.93        79\n",
            "\n",
            "    accuracy                           0.94       492\n",
            "   macro avg       0.94      0.94      0.94       492\n",
            "weighted avg       0.94      0.94      0.94       492\n",
            "\n"
          ]
        }
      ]
    },
    {
      "cell_type": "code",
      "source": [
        "import joblib\n",
        "joblib.dump(best_model, \"obesity_model.pkl\")\n",
        "joblib.dump(scaler, \"scaler.pkl\")"
      ],
      "metadata": {
        "id": "hVt_eQMNXauT",
        "outputId": "4fa3ac09-9a88-4021-c9c1-ad321ac1124d",
        "colab": {
          "base_uri": "https://localhost:8080/"
        }
      },
      "execution_count": 31,
      "outputs": [
        {
          "output_type": "execute_result",
          "data": {
            "text/plain": [
              "['scaler.pkl']"
            ]
          },
          "metadata": {},
          "execution_count": 31
        }
      ]
    }
  ]
}